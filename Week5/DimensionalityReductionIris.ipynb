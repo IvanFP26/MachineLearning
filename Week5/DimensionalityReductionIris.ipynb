{
  "nbformat": 4,
  "nbformat_minor": 0,
  "metadata": {
    "colab": {
      "provenance": [],
      "authorship_tag": "ABX9TyPZNv4rvPCptJrHUO0Qvesk",
      "include_colab_link": true
    },
    "kernelspec": {
      "name": "python3",
      "display_name": "Python 3"
    },
    "language_info": {
      "name": "python"
    }
  },
  "cells": [
    {
      "cell_type": "markdown",
      "metadata": {
        "id": "view-in-github",
        "colab_type": "text"
      },
      "source": [
        "<a href=\"https://colab.research.google.com/github/IvanFP26/MachineLearning/blob/main/Week5/DimensionalityReductionIris.ipynb\" target=\"_parent\"><img src=\"https://colab.research.google.com/assets/colab-badge.svg\" alt=\"Open In Colab\"/></a>"
      ]
    },
    {
      "cell_type": "code",
      "source": [
        "#Nama : Ivan Fernanda Prayoga\n",
        "#NIM : 1103204035\n",
        "#Dimensionality Reduction Iris"
      ],
      "metadata": {
        "id": "HzYy26jEQvZp"
      },
      "execution_count": 1,
      "outputs": []
    },
    {
      "cell_type": "code",
      "execution_count": 2,
      "metadata": {
        "id": "mPJM3vxdeDkb"
      },
      "outputs": [],
      "source": [
        "# Import library yang dibutuhkan\n",
        "from sklearn import datasets\n",
        "from sklearn.model_selection import train_test_split\n",
        "from sklearn import tree\n",
        "from sklearn.decomposition import PCA\n",
        "\n",
        "# Memuat dataset iris\n",
        "iris = datasets.load_iris()\n",
        "# Mengambil atribut (fitur) dari dataset\n",
        "atribut = iris.data\n",
        "# Mengambil label (target) dari dataset\n",
        "label = iris.target\n",
        "\n",
        "# Bagi dataset menjadi train set dan test set\n",
        "X_train, X_test, y_train, y_test = train_test_split(\n",
        "    atribut, label, test_size=0.2)"
      ]
    },
    {
      "cell_type": "code",
      "source": [
        "# Membuat model pohon keputusan\n",
        "decision_tree = tree.DecisionTreeClassifier()\n",
        "# Model dilatih menggunakan data pelatihan\n",
        "model_pertama = decision_tree.fit(X_train, y_train)\n",
        "# Model dihitung menggunakan data uji\n",
        "model_pertama.score(X_test, y_test)"
      ],
      "metadata": {
        "colab": {
          "base_uri": "https://localhost:8080/"
        },
        "id": "WvewVYUNfBoj",
        "outputId": "3caab576-9e4a-49d2-af51-e330aade5757"
      },
      "execution_count": 3,
      "outputs": [
        {
          "output_type": "execute_result",
          "data": {
            "text/plain": [
              "1.0"
            ]
          },
          "metadata": {},
          "execution_count": 3
        }
      ]
    },
    {
      "cell_type": "code",
      "source": [
        "# Membuat objek PCA dengan 4 principal component\n",
        "pca = PCA(n_components=4)\n",
        "\n",
        "# Mengaplikasikan PCA pada dataset\n",
        "pca_attributes = pca.fit_transform(X_train)\n",
        "\n",
        "# Melihat variance dari setiap atribut\n",
        "pca.explained_variance_ratio_"
      ],
      "metadata": {
        "colab": {
          "base_uri": "https://localhost:8080/"
        },
        "id": "-isK8R-yfCk3",
        "outputId": "511ba600-2b06-44bd-c06d-c9c74c0178e1"
      },
      "execution_count": 4,
      "outputs": [
        {
          "output_type": "execute_result",
          "data": {
            "text/plain": [
              "array([0.91911913, 0.05755368, 0.01823944, 0.00508775])"
            ]
          },
          "metadata": {},
          "execution_count": 4
        }
      ]
    },
    {
      "cell_type": "code",
      "source": [
        "# PCA dengan 2 principal component\n",
        "pca = PCA(n_components=2)\n",
        "X_train_pca = pca.fit_transform(X_train)\n",
        "X_test_pca = pca.fit_transform(X_test)"
      ],
      "metadata": {
        "id": "tuoBAb0YfDwR"
      },
      "execution_count": 5,
      "outputs": []
    },
    {
      "cell_type": "code",
      "source": [
        "# Uji akurasi classifier\n",
        "model2 = decision_tree.fit(X_train_pca, y_train)\n",
        "model2.score(X_test_pca, y_test)"
      ],
      "metadata": {
        "colab": {
          "base_uri": "https://localhost:8080/"
        },
        "id": "xV2PWwGQfE1Q",
        "outputId": "39e858a2-b560-4c9a-98e6-ad8d125f7603"
      },
      "execution_count": 6,
      "outputs": [
        {
          "output_type": "execute_result",
          "data": {
            "text/plain": [
              "0.9"
            ]
          },
          "metadata": {},
          "execution_count": 6
        }
      ]
    }
  ]
}